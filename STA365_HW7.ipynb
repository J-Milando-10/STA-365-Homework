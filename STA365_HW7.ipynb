{
  "nbformat": 4,
  "nbformat_minor": 0,
  "metadata": {
    "colab": {
      "provenance": [],
      "authorship_tag": "ABX9TyMIbtHIOHsRD7u4e05xsNK5",
      "include_colab_link": true
    },
    "kernelspec": {
      "name": "python3",
      "display_name": "Python 3"
    },
    "language_info": {
      "name": "python"
    }
  },
  "cells": [
    {
      "cell_type": "markdown",
      "metadata": {
        "id": "view-in-github",
        "colab_type": "text"
      },
      "source": [
        "<a href=\"https://colab.research.google.com/github/J-Milando-10/STA-365-Homework/blob/main/STA365_HW7.ipynb\" target=\"_parent\"><img src=\"https://colab.research.google.com/assets/colab-badge.svg\" alt=\"Open In Colab\"/></a>"
      ]
    },
    {
      "cell_type": "markdown",
      "source": [
        "1. Posterior predictive distribution for mixture models is created sum-product of the mixtures indivual posterior with the corresponding weights.\n",
        "2. in general posterior predictive distributions are created by the following formula from one of my ACT courses;\n",
        "\n",
        "let $x_{n+1}$ be our n+1 th value, and X be our x_1, x_2...x_n values\n",
        "\n",
        "$f_{x_{n+1}|X}(x_{n+1}|X) = ∫ f_{X|Θ}(x_{n+1}|θ) * π_{Θ|X}(θ|X)dθ$\n",
        "\n",
        "the translation being the integral of the posterior distribution at $x_{n+1}$ times the conditional prior distribution, ingerated with respect to θ\n",
        "\n",
        "3. If we were trying to perform regression on y using X but missing values in X, we can apply a bayesian approach to learn parameters from the data and directly imput the missing value through MCMC sampling. first we must set up our model with priors and an unobserved value distribution assumption. recombine the data for observed and unobserved. then we sample the prior predictive dist and then using that sample the posterior predictive data. then using the summary stats we can input the mean value of the unobsereved value."
      ],
      "metadata": {
        "id": "QIY5-c4D8HO2"
      }
    }
  ]
}